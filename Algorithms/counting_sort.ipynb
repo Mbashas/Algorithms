{
 "cells": [
  {
   "cell_type": "code",
   "execution_count": 1,
   "metadata": {},
   "outputs": [
    {
     "data": {
      "text/plain": [
       "[1, 23, 43, 54, 62, 63, 67, 89]"
      ]
     },
     "execution_count": 1,
     "metadata": {},
     "output_type": "execute_result"
    }
   ],
   "source": [
    "def counting_sort(arr):\n",
    "    min_val = min(arr)\n",
    "    max_val = max(arr)\n",
    "    count = [0]*(max_val-min_val+1)\n",
    "    for element in arr:\n",
    "        count[element-min_val] += 1\n",
    "    for i in range(1, len(count)):\n",
    "        count[i] += count[i-1]\n",
    "    sortd = [0]*len(arr)\n",
    "    for element in arr[::-1]:\n",
    "        count[element-min_val] -= 1\n",
    "        sortd[count[element-min_val]] = element\n",
    "    return sortd\n",
    "\n",
    "nums = [43,1,54,63,89,67,62,23]\n",
    "counting_sort(nums)"
   ]
  }
 ],
 "metadata": {
  "kernelspec": {
   "display_name": "Python 3",
   "language": "python",
   "name": "python3"
  },
  "language_info": {
   "codemirror_mode": {
    "name": "ipython",
    "version": 3
   },
   "file_extension": ".py",
   "mimetype": "text/x-python",
   "name": "python",
   "nbconvert_exporter": "python",
   "pygments_lexer": "ipython3",
   "version": "3.11.5"
  }
 },
 "nbformat": 4,
 "nbformat_minor": 2
}
