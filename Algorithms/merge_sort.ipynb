{
 "cells": [
  {
   "cell_type": "code",
   "execution_count": 23,
   "metadata": {},
   "outputs": [
    {
     "name": "stdout",
     "output_type": "stream",
     "text": [
      "Unsorted array [34, 586, 64, 75, 12, 86, 232]\n",
      "Sorted array [12, 34, 64, 75, 86, 232, 586]\n"
     ]
    }
   ],
   "source": [
    "def merge_sort(array):\n",
    "    if len(array)>1: \n",
    "        left_array=array[:len(array)//2]\n",
    "        right_array=array[len(array)//2:]\n",
    "        \n",
    "        #recurssion\n",
    "        merge_sort(left_array)\n",
    "        merge_sort(right_array)\n",
    "        \n",
    "        i=0 #left array index\n",
    "        j=0 #right array index\n",
    "        k=0 #merged array index\n",
    "        while i < len(left_array) and j < len(right_array):\n",
    "            if left_array[i]<right_array[j]:\n",
    "                array[k]= left_array[i]\n",
    "                i +=1\n",
    "                k +=1\n",
    "            else:\n",
    "                array[k] = right_array[j]\n",
    "                j +=1\n",
    "                k +=1\n",
    "        while i<len(left_array):\n",
    "            array[k]=left_array[i]\n",
    "            i +=1\n",
    "            k +=1\n",
    "            \n",
    "        while j < len(right_array):\n",
    "            array[k]=right_array[j]\n",
    "            j +=1\n",
    "            k +=1\n",
    "arr=[34,586,64,75,12,86,232]\n",
    "print('Unsorted array',arr)\n",
    "merge_sort(arr)\n",
    "print('Sorted array',arr)"
   ]
  }
 ],
 "metadata": {
  "kernelspec": {
   "display_name": "Python 3",
   "language": "python",
   "name": "python3"
  },
  "language_info": {
   "codemirror_mode": {
    "name": "ipython",
    "version": 3
   },
   "file_extension": ".py",
   "mimetype": "text/x-python",
   "name": "python",
   "nbconvert_exporter": "python",
   "pygments_lexer": "ipython3",
   "version": "3.11.5"
  }
 },
 "nbformat": 4,
 "nbformat_minor": 2
}
