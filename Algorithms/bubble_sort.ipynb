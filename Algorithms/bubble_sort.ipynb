{
 "cells": [
  {
   "cell_type": "code",
   "execution_count": 6,
   "metadata": {},
   "outputs": [
    {
     "name": "stdout",
     "output_type": "stream",
     "text": [
      "[12, 34, 64, 75, 86, 232, 586]\n"
     ]
    }
   ],
   "source": [
    "def bubble_sort(list):\n",
    "    for i in range(len(list)):\n",
    "        already_sorted=True\n",
    "        for j in range(len(list)-i-1):\n",
    "            if list[j]>list[j+1]:\n",
    "                list[j],list[j+1] = list[j+1],list[j]\n",
    "                already_sorted=False\n",
    "        if already_sorted:\n",
    "            break\n",
    "    return list\n",
    "\n",
    "\n",
    "list=[34,586,64,75,12,86,232]\n",
    "print(bubble_sort(list))        "
   ]
  }
 ],
 "metadata": {
  "kernelspec": {
   "display_name": "Python 3",
   "language": "python",
   "name": "python3"
  },
  "language_info": {
   "codemirror_mode": {
    "name": "ipython",
    "version": 3
   },
   "file_extension": ".py",
   "mimetype": "text/x-python",
   "name": "python",
   "nbconvert_exporter": "python",
   "pygments_lexer": "ipython3",
   "version": "3.11.5"
  }
 },
 "nbformat": 4,
 "nbformat_minor": 2
}
