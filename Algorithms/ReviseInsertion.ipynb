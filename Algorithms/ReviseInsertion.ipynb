{
 "cells": [
  {
   "cell_type": "code",
   "execution_count": null,
   "metadata": {},
   "outputs": [],
   "source": [
    "def insertion_sort(arr):\n",
    "    for i in range(1,len(arr)):\n",
    "        j=i\n",
    "        while arr[j-1]<arr[j] and j>0: #condition that work hand in hand with j-=1\n",
    "            arr[j-1],arr[j]=arr[j],arr[j-1] #Swapping\n",
    "            j-=1 #allow the pointer to run trough all the sorted subarray\n",
    "                \n",
    "array=[43,1,54,63,89,67,62,23]\n",
    "insertion_sort(array)\n",
    "print(array)"
   ]
  }
 ],
 "metadata": {
  "language_info": {
   "name": "python"
  }
 },
 "nbformat": 4,
 "nbformat_minor": 2
}
