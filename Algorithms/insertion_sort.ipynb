{
 "cells": [
  {
   "cell_type": "code",
   "execution_count": 2,
   "metadata": {},
   "outputs": [
    {
     "name": "stdout",
     "output_type": "stream",
     "text": [
      "[1, 23, 43, 54, 62, 63, 67, 89]\n"
     ]
    }
   ],
   "source": [
    "def insertion_sort(array):\n",
    "    for i in range(1,len(array)):\n",
    "        j=i\n",
    "        while array[j-1]>array[j] and j>0:\n",
    "            array[j-1],array[j]=array[j],array[j-1]\n",
    "            j-=1\n",
    "            \n",
    "array=[43,1,54,63,89,67,62,23]\n",
    "insertion_sort(array)\n",
    "print(array)\n",
    "\n",
    "            "
   ]
  }
 ],
 "metadata": {
  "kernelspec": {
   "display_name": "Python 3",
   "language": "python",
   "name": "python3"
  },
  "language_info": {
   "codemirror_mode": {
    "name": "ipython",
    "version": 3
   },
   "file_extension": ".py",
   "mimetype": "text/x-python",
   "name": "python",
   "nbconvert_exporter": "python",
   "pygments_lexer": "ipython3",
   "version": "3.11.5"
  }
 },
 "nbformat": 4,
 "nbformat_minor": 2
}
