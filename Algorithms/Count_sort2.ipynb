{
 "cells": [
  {
   "cell_type": "code",
   "execution_count": 4,
   "metadata": {},
   "outputs": [
    {
     "name": "stdout",
     "output_type": "stream",
     "text": [
      "Sorted: [20, 29, 47, 52, 92, 109, 116, 125, 128, 140, 153, 155, 199]\n"
     ]
    }
   ],
   "source": [
    "# Define the counting sort function\n",
    "def counting_sort(array):\n",
    "   # Find the maximum value in the array to determine the size of the counting array\n",
    "   k = max(array) + 1\n",
    "\n",
    "   # Create a counting array to store the count of each element\n",
    "   count = [0] * k  # Initialize all counts to 0\n",
    "\n",
    "   # Build the histogram (count occurrences of each element)\n",
    "   for e in array:\n",
    "       count[e] += 1  # Increment the count for the current element\n",
    "\n",
    "   # Create the index map (cumulative sum of counts)\n",
    "   for i in range(1, len(count)):\n",
    "       count[i] += count[i - 1]  # Add the count of the previous element to the current count\n",
    "\n",
    "   # Create the output array\n",
    "   output = [0] * len(array)\n",
    "\n",
    "   # Place elements in their sorted positions in the output array\n",
    "   for e in array:\n",
    "       output[count[e] - 1] = e  # Place the element at the index indicated by the index map\n",
    "       count[e] -= 1  # Decrement the count for the current element\n",
    "\n",
    "   return output\n",
    "\n",
    "# counting sort\n",
    "numbers = [116, 20, 153, 128, 29, 125, 109, 199, 92, 155, 47, 52, 140]\n",
    "\n",
    "# Sort the numbers using counting sort\n",
    "sorted_array = counting_sort(numbers)\n",
    "\n",
    "# Print the sorted array\n",
    "print(f'Sorted: {sorted_array}')\n"
   ]
  },
  {
   "cell_type": "code",
   "execution_count": 3,
   "metadata": {},
   "outputs": [
    {
     "name": "stdout",
     "output_type": "stream",
     "text": [
      "[116, 20, 153, 128, 29, 125, 109, 199, 92, 155, 47, 52, 140]\n"
     ]
    }
   ],
   "source": [
    "import random\n",
    "\n",
    "# Generate a list of 20 random integers between 1 and 100\n",
    "araay = [random.randint(1, 234) for _ in range(13)]\n",
    "\n",
    "# Print the generated list\n",
    "print(araay)"
   ]
  }
 ],
 "metadata": {
  "kernelspec": {
   "display_name": "Python 3",
   "language": "python",
   "name": "python3"
  },
  "language_info": {
   "codemirror_mode": {
    "name": "ipython",
    "version": 3
   },
   "file_extension": ".py",
   "mimetype": "text/x-python",
   "name": "python",
   "nbconvert_exporter": "python",
   "pygments_lexer": "ipython3",
   "version": "3.11.5"
  }
 },
 "nbformat": 4,
 "nbformat_minor": 2
}
