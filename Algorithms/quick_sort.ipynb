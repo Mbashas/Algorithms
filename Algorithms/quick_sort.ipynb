{
 "cells": [
  {
   "cell_type": "code",
   "execution_count": 2,
   "metadata": {},
   "outputs": [
    {
     "name": "stdout",
     "output_type": "stream",
     "text": [
      "[1, 23, 43, 54, 62, 63, 67, 89]\n"
     ]
    }
   ],
   "source": [
    "def quicksort(arr, left, right):\n",
    "    if left < right:\n",
    "        partition_pos = partition(arr, left, right)\n",
    "        quicksort(arr, left, partition_pos - 1)\n",
    "        quicksort(arr, partition_pos + 1, right)\n",
    "\n",
    "def partition(arr, left, right):\n",
    "    i = left\n",
    "    j = right\n",
    "    pivot = arr[right - 1]\n",
    "\n",
    "    while i < j:\n",
    "        while i < right and arr[i] < pivot:\n",
    "            i += 1\n",
    "\n",
    "        while j > left and arr[j] >= pivot:\n",
    "            j -= 1\n",
    "\n",
    "        if i < j:\n",
    "            arr[i], arr[j] = arr[j], arr[i]\n",
    "\n",
    "    if arr[i] > pivot:\n",
    "        arr[i], arr[right - 1] = arr[right - 1], arr[i]\n",
    "\n",
    "    return i\n",
    "\n",
    "arr = [43,1,54,63,89,67,62,23]\n",
    "quicksort(arr, 0, len(arr) - 1)\n",
    "print(arr)\n"
   ]
  }
 ],
 "metadata": {
  "kernelspec": {
   "display_name": "Python 3",
   "language": "python",
   "name": "python3"
  },
  "language_info": {
   "codemirror_mode": {
    "name": "ipython",
    "version": 3
   },
   "file_extension": ".py",
   "mimetype": "text/x-python",
   "name": "python",
   "nbconvert_exporter": "python",
   "pygments_lexer": "ipython3",
   "version": "3.11.5"
  }
 },
 "nbformat": 4,
 "nbformat_minor": 2
}
