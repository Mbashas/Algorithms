{
 "cells": [
  {
   "cell_type": "code",
   "execution_count": 6,
   "metadata": {},
   "outputs": [
    {
     "name": "stdout",
     "output_type": "stream",
     "text": [
      "The Index of 6 is: 4\n"
     ]
    }
   ],
   "source": [
    "def binary_search(array, value, low, high):\n",
    "  if (low > high):\n",
    "    return None\n",
    "  else:\n",
    "    mid = (low + high) // 2\n",
    "    if (value > array[mid]):\n",
    "      return binary_search(array, value, mid+1, high)\n",
    "    elif (value < array[mid]):\n",
    "      return binary_search(array, value, low, mid-1)\n",
    "    else:\n",
    "      return mid \n",
    "\n",
    "# the sorted list that we are going to use\n",
    "sorted =[1, 23, 43, 54, 62, 63, 67, 89]\n",
    "\n",
    "#To find the element '6' in the list, we need to pass the list along with the initial low and high indexes as 0 and len(sorted)-1, respectively. \n",
    "#Since Python lists are zero-indexed, we need to subtract 1 from the length of the list to get the high index, which is the index of the last element in the list.\n",
    "\n",
    "index=binary_search(sorted, 62, 0, len(sorted) - 1)\n",
    "\n",
    "# We should get index '5' as the index of element 6\n",
    "print(\"The Index of 6 is:\", index)"
   ]
  }
 ],
 "metadata": {
  "kernelspec": {
   "display_name": "Python 3",
   "language": "python",
   "name": "python3"
  },
  "language_info": {
   "codemirror_mode": {
    "name": "ipython",
    "version": 3
   },
   "file_extension": ".py",
   "mimetype": "text/x-python",
   "name": "python",
   "nbconvert_exporter": "python",
   "pygments_lexer": "ipython3",
   "version": "3.11.7"
  }
 },
 "nbformat": 4,
 "nbformat_minor": 2
}
