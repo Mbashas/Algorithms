{
 "cells": [
  {
   "cell_type": "code",
   "execution_count": 9,
   "metadata": {},
   "outputs": [
    {
     "name": "stdout",
     "output_type": "stream",
     "text": [
      "Max heap is\n",
      "3\n",
      "56\n",
      "66\n",
      "16\n",
      "6\n",
      "7\n"
     ]
    }
   ],
   "source": [
    "#implementation of hype\n",
    "#code\n",
    "def max_heapify(arr,n,i):\n",
    "    largest=i\n",
    "    left=2*i+1\n",
    "    right=2*i+2\n",
    "    #chck the largest so far\n",
    "    if left<n and arr[largest]<arr[left]:\n",
    "        largest=left\n",
    "        #largest with the right node\n",
    "    if right <n and arr[largest]<arr[right]:\n",
    "        largest=right\n",
    "        \n",
    "    #change of parent\n",
    "    if largest !=i:\n",
    "        arr[i],arr[largest],arr[largest],arr[i]\n",
    "    #recursive call\n",
    "        max_heapify(arr,n,largest)\n",
    "        \n",
    "arr=[3,56,66,16,6,7]\n",
    "n=len(arr)\n",
    "\n",
    "#building the max heap\n",
    "for i in range(n//2 -1, -1,-1):\n",
    "    max_heapify(arr,n,i)\n",
    "    \n",
    "#display\n",
    "print(\"Max heap is\")\n",
    "for i in range (n):\n",
    "    print(arr[i])"
   ]
  }
 ],
 "metadata": {
  "kernelspec": {
   "display_name": "Python 3",
   "language": "python",
   "name": "python3"
  },
  "language_info": {
   "codemirror_mode": {
    "name": "ipython",
    "version": 3
   },
   "file_extension": ".py",
   "mimetype": "text/x-python",
   "name": "python",
   "nbconvert_exporter": "python",
   "pygments_lexer": "ipython3",
   "version": "3.11.5"
  }
 },
 "nbformat": 4,
 "nbformat_minor": 2
}
