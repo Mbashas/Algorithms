{
 "cells": [
  {
   "cell_type": "code",
   "execution_count": 2,
   "metadata": {},
   "outputs": [
    {
     "name": "stdout",
     "output_type": "stream",
     "text": [
      "[1, 23, 43, 54, 62, 63, 67, 89]\n"
     ]
    }
   ],
   "source": [
    "def quicksort(arr, left, right):\n",
    "    if left < right:\n",
    "        partition_pos = partition(arr, left, right)\n",
    "        quicksort(arr, left, partition_pos - 1)\n",
    "        quicksort(arr, partition_pos + 1, right)\n",
    "\n",
    "def partition(arr, left, right):\n",
    "    i = left\n",
    "    j = right\n",
    "    pivot = arr[right - 1]\n",
    "\n",
    "    while i < j:\n",
    "        while i < right and arr[i] < pivot:\n",
    "            i += 1\n",
    "\n",
    "        while j > left and arr[j] >= pivot:\n",
    "            j -= 1\n",
    "\n",
    "        if i < j:\n",
    "            arr[i], arr[j] = arr[j], arr[i]\n",
    "\n",
    "    if arr[i] > pivot:\n",
    "        arr[i], arr[right - 1] = arr[right - 1], arr[i]\n",
    "\n",
    "    return i\n",
    "\n",
    "arr = [43,1,54,63,89,67,62,23]\n",
    "quicksort(arr, 0, len(arr) - 1)\n",
    "print(arr)\n"
   ]
  },
  {
   "cell_type": "code",
   "execution_count": 1,
   "metadata": {},
   "outputs": [
    {
     "name": "stdout",
     "output_type": "stream",
     "text": [
      "[1, 4, 7, 26, 27, 27, 31, 39, 51, 52, 54, 61, 63, 65, 70, 78, 79, 89, 90, 96]\n"
     ]
    }
   ],
   "source": [
    "def quicksort(arr, left, right):\n",
    "  \"\"\"This function implements the quicksort algorithm to sort an array in ascending order.\"\"\"\n",
    "  # Check if there are at least two elements to sort\n",
    "  if left < right:\n",
    "    # Find the partition position using the partition function\n",
    "    partition_pos = partition(arr, left, right)\n",
    "    # Sort the left sub-array recursively\n",
    "    quicksort(arr, left, partition_pos - 1)\n",
    "    # Sort the right sub-array recursively\n",
    "    quicksort(arr, partition_pos + 1, right)\n",
    "\n",
    "def partition(arr, left, right):\n",
    "  \"\"\"This function partitions the array around a pivot element.\"\"\"\n",
    "  # Choose the rightmost element as the pivot\n",
    "  pivot = arr[right - 1]\n",
    "  # Initialize two pointers, i and j\n",
    "  i = left\n",
    "  j = right\n",
    "  # Loop until the pointers meet\n",
    "  while i < j:\n",
    "    # Move i forward until it finds an element greater than or equal to the pivot\n",
    "    while i < right and arr[i] < pivot:\n",
    "      i += 1\n",
    "    # Move j backward until it finds an element less than the pivot\n",
    "    while j > left and arr[j] >= pivot:\n",
    "      j -= 1\n",
    "    # Swap the elements at i and j if they are not in the correct order\n",
    "    if i < j:\n",
    "      arr[i], arr[j] = arr[j], arr[i]\n",
    "  # Swap the pivot element with the element at i if it is smaller than the pivot\n",
    "  if arr[i] > pivot:\n",
    "    arr[i], arr[right - 1] = arr[right - 1], arr[i]\n",
    "  # Return the partition position (i)\n",
    "  return i\n",
    "\n",
    "# Example usage\n",
    "arr =[27, 7, 78, 70, 96, 51, 4, 90, 27, 63, 79, 61, 89, 54, 52, 65, 39, 1, 31, 26]\n",
    "quicksort(arr, 0, len(arr) - 1)\n",
    "print(arr)  \n"
   ]
  },
  {
   "cell_type": "code",
   "execution_count": 1,
   "metadata": {},
   "outputs": [
    {
     "name": "stdout",
     "output_type": "stream",
     "text": [
      "[27, 7, 78, 70, 96, 51, 4, 90, 27, 63, 79, 61, 89, 54, 52, 65, 39, 1, 31, 26]\n"
     ]
    }
   ],
   "source": [
    "import random\n",
    "\n",
    "# Generate a list of 20 random integers between 1 and 100\n",
    "araay = [random.randint(1, 100) for _ in range(20)]\n",
    "\n",
    "# Print the generated list\n",
    "print(araay)"
   ]
  }
 ],
 "metadata": {
  "kernelspec": {
   "display_name": "Python 3",
   "language": "python",
   "name": "python3"
  },
  "language_info": {
   "codemirror_mode": {
    "name": "ipython",
    "version": 3
   },
   "file_extension": ".py",
   "mimetype": "text/x-python",
   "name": "python",
   "nbconvert_exporter": "python",
   "pygments_lexer": "ipython3",
   "version": "3.11.5"
  }
 },
 "nbformat": 4,
 "nbformat_minor": 2
}
