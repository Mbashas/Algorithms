{
 "cells": [
  {
   "cell_type": "code",
   "execution_count": 4,
   "metadata": {},
   "outputs": [
    {
     "name": "stdout",
     "output_type": "stream",
     "text": [
      "[1, 23, 43, 54, 62, 63, 67, 89]\n"
     ]
    }
   ],
   "source": [
    "def selection_sort(arr):\n",
    "    for i in range(0, len(arr) - 1):\n",
    "        cur_min_idx = i\n",
    "        for j in range(i + 1, len(arr)):\n",
    "            if arr[j] < arr[cur_min_idx]: \n",
    "                cur_min_idx = j\n",
    "            \n",
    "            arr[i], arr[cur_min_idx] = arr[cur_min_idx], arr[i] # swapping\n",
    "            \n",
    "arr = [43,1,54,63,89,67,62,23]\n",
    "selection_sort(arr)\n",
    "print(arr)\n",
    "\n"
   ]
  },
  {
   "cell_type": "code",
   "execution_count": 3,
   "metadata": {},
   "outputs": [
    {
     "data": {
      "text/plain": [
       "['A', 'B', 'C', 'G', 'D', 'E', 'H', 'F', 'E', 'F', 'F']"
      ]
     },
     "execution_count": 3,
     "metadata": {},
     "output_type": "execute_result"
    }
   ],
   "source": [
    "def bfs(graph, startNode):\n",
    "  visitedNodes = []\n",
    "  queue = [startNode]\n",
    "\n",
    "  while queue:\n",
    "    currentNode = queue.pop(0)\n",
    "    visitedNodes.append(currentNode)\n",
    "\n",
    "    for neighbor in graph[currentNode]:\n",
    "      if neighbor not in visitedNodes:\n",
    "        queue.append(neighbor)\n",
    "\n",
    "  return visitedNodes\n",
    "graph = {\n",
    "    'A': ['B', 'C', 'G'],\n",
    "    'B': ['D', 'E', 'H'],\n",
    "    'C': ['F'],\n",
    "    'D': [],\n",
    "    'E': ['F'],\n",
    "    'F': [],\n",
    "    'G': ['A', 'E'],\n",
    "    'H': ['B', 'F']\n",
    "}\n",
    "bfs(graph,\"A\")"
   ]
  },
  {
   "cell_type": "code",
   "execution_count": null,
   "metadata": {},
   "outputs": [],
   "source": [
    "def shortestPath(predecessorsNodes,startNode,endNode):\n",
    "    path=[endNode]\n",
    "    currentNode=endNode\n",
    "    \n",
    "    while currentNode != startNode:\n",
    "        currentNode=predecessorsNodes[currentNode]   \n",
    "        path.append(currentNode)\n",
    "    path.reverse()\n",
    "    return path\n",
    "\n",
    "graph = {\n",
    "    'A': ['B', 'C', 'G'],\n",
    "    'B': ['D', 'E', 'H'],\n",
    "    'C': ['F'],\n",
    "    'D': [],\n",
    "    'E': ['F'],\n",
    "    'F': [],\n",
    "    'G': ['A', 'E'],\n",
    "    'H': ['B', 'F']\n",
    "}\n",
    "shortestPath(graph,\"A\",\"F\") "
   ]
  }
 ],
 "metadata": {
  "kernelspec": {
   "display_name": "Python 3",
   "language": "python",
   "name": "python3"
  },
  "language_info": {
   "codemirror_mode": {
    "name": "ipython",
    "version": 3
   },
   "file_extension": ".py",
   "mimetype": "text/x-python",
   "name": "python",
   "nbconvert_exporter": "python",
   "pygments_lexer": "ipython3",
   "version": "3.11.5"
  }
 },
 "nbformat": 4,
 "nbformat_minor": 2
}
